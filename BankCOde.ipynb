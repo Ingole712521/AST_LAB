{
 "cells": [
  {
   "cell_type": "code",
   "execution_count": 1,
   "id": "6d57bd5e",
   "metadata": {},
   "outputs": [],
   "source": [
    "import random"
   ]
  },
  {
   "cell_type": "code",
   "execution_count": 2,
   "id": "9bebc53e",
   "metadata": {},
   "outputs": [],
   "source": [
    "import sys"
   ]
  },
  {
   "cell_type": "code",
   "execution_count": 4,
   "id": "337be1b2",
   "metadata": {},
   "outputs": [],
   "source": [
    "class ATM():\n",
    "    def __init__(self,name,account_number,balance=0):\n",
    "        self.name = name\n",
    "        self.account_number = account_number\n",
    "        self.balance = balance\n",
    "        "
   ]
  },
  {
   "cell_type": "code",
   "execution_count": 5,
   "id": "509c1fa7",
   "metadata": {},
   "outputs": [],
   "source": [
    "def account_detail(self):\n",
    "    print(\"/n------ Account Detail -----\")\n",
    "    print(\"Account Holder: {self.name.upper()}\")\n",
    "    print(\"Account Number: {self.account_number}\")\n",
    "    print(\"Avaiable Balance: Num.{self.balance}\")\n",
    "    \n",
    "    "
   ]
  },
  {
   "cell_type": "code",
   "execution_count": 6,
   "id": "603f9d28",
   "metadata": {},
   "outputs": [],
   "source": [
    "def deposit(self, amount):\n",
    "    self.amount = amount\n",
    "    self.balance = self.balance + self.amount\n",
    "    print(\"Current Account Balance: Num.\", self.balance)\n",
    "    print()"
   ]
  },
  {
   "cell_type": "code",
   "execution_count": 9,
   "id": "cdf11f61",
   "metadata": {},
   "outputs": [],
   "source": [
    "def withdraw(self , amount):\n",
    "    self.amount = amount \n",
    "    if self.amount > self.balance:\n",
    "        print(\"Insufficient fund\")\n",
    "        print(\"Your balance is Num.{self.balance}only.\")\n",
    "        print(\"Try with lesser amount than balance.\")\n",
    "        print()\n",
    "    else:\n",
    "        self.balance = self.balance - self.amount\n",
    "        print(\"Nu.{amount} withdrawal successful\")\n",
    "        print(\"current account balance : Nu.\", self.balance)\n",
    "        print()"
   ]
  },
  {
   "cell_type": "code",
   "execution_count": 10,
   "id": "cfa20e03",
   "metadata": {},
   "outputs": [],
   "source": [
    "def check_balance(self):\n",
    "    print(\"Available balance:Nu\", self.balance)\n",
    "    print()"
   ]
  },
  {
   "cell_type": "code",
   "execution_count": 13,
   "id": "a76499f8",
   "metadata": {},
   "outputs": [],
   "source": [
    "def transaction(self):\n",
    "    print (\"\"\"\"\n",
    "        Transaction\n",
    "        \n",
    "        Menu: \n",
    "        1. Account Detail\n",
    "        2. Check Balance \n",
    "        3. Deposit \n",
    "        4. withdraw\n",
    "        5. Exit\n",
    "        \n",
    "        ############\n",
    "        \n",
    "    \"\"\")\n",
    "    while True:\n",
    "            try:\n",
    "                option = int(input(\"Enter 1,2,3,4 or 5 :\"))\n",
    "            except:\n",
    "                print(\"Error:Enter the valid number only\\n\")\n",
    "                continue\n",
    "            else:\n",
    "                if option ==1:\n",
    "                    atm.account_detail()\n",
    "                elif option ==2:\n",
    "                    atm.check_balance()\n",
    "                elif option == 3:\n",
    "                    amount = int(input(\"How much you want to deposit(Nu.):\"))\n",
    "                    atm.deposit(amount)\n",
    "                elif option == 4:\n",
    "                    amount = int(input(\"How much you want to withdraw(Nu.):\"))\n",
    "                    atm.withdraw(amount)\n",
    "                elif option == 5:\n",
    "                    print(\"\"\"\n",
    "                      Transaction is now complete.                         \n",
    "              Transaction number: {random.randint(10000, 1000000)} \n",
    "              Account holder: {self.name.upper()}                  \n",
    "              Account number: {self.account_number}                \n",
    "              Available balance: Nu.{self.balance} \n",
    "              \"\"\")\n",
    "                    sys.exit()\n",
    "            \n",
    "      "
   ]
  },
  {
   "cell_type": "code",
   "execution_count": 14,
   "id": "ca0d8748",
   "metadata": {},
   "outputs": [
    {
     "name": "stdout",
     "output_type": "stream",
     "text": [
      "*******WELCOME TO BANK OF BHUTAN*******\n",
      "___________________________________________________________\n",
      "\n",
      "----------ACCOUNT CREATION----------\n",
      "Enter your name: Nehal\n",
      "Enter your account number: 5\n",
      "Congratulations! Account created successfully......\n",
      "\n",
      "Do you want to do any transaction?(y/n):y\n"
     ]
    },
    {
     "ename": "AttributeError",
     "evalue": "'ATM' object has no attribute 'transaction'",
     "output_type": "error",
     "traceback": [
      "\u001b[1;31m---------------------------------------------------------------------------\u001b[0m",
      "\u001b[1;31mAttributeError\u001b[0m                            Traceback (most recent call last)",
      "\u001b[1;32m~\\AppData\\Local\\Temp/ipykernel_8500/1516255502.py\u001b[0m in \u001b[0;36m<module>\u001b[1;34m\u001b[0m\n\u001b[0;32m     11\u001b[0m     \u001b[0mtrans\u001b[0m \u001b[1;33m=\u001b[0m \u001b[0minput\u001b[0m\u001b[1;33m(\u001b[0m\u001b[1;34m\"Do you want to do any transaction?(y/n):\"\u001b[0m\u001b[1;33m)\u001b[0m\u001b[1;33m\u001b[0m\u001b[1;33m\u001b[0m\u001b[0m\n\u001b[0;32m     12\u001b[0m     \u001b[1;32mif\u001b[0m \u001b[0mtrans\u001b[0m \u001b[1;33m==\u001b[0m \u001b[1;34m\"y\"\u001b[0m\u001b[1;33m:\u001b[0m\u001b[1;33m\u001b[0m\u001b[1;33m\u001b[0m\u001b[0m\n\u001b[1;32m---> 13\u001b[1;33m         \u001b[0matm\u001b[0m\u001b[1;33m.\u001b[0m\u001b[0mtransaction\u001b[0m\u001b[1;33m(\u001b[0m\u001b[1;33m)\u001b[0m\u001b[1;33m\u001b[0m\u001b[1;33m\u001b[0m\u001b[0m\n\u001b[0m\u001b[0;32m     14\u001b[0m     \u001b[1;32melif\u001b[0m \u001b[0mtrans\u001b[0m \u001b[1;33m==\u001b[0m \u001b[1;34m\"n\"\u001b[0m\u001b[1;33m:\u001b[0m\u001b[1;33m\u001b[0m\u001b[1;33m\u001b[0m\u001b[0m\n\u001b[0;32m     15\u001b[0m         print(\"\"\"\n",
      "\u001b[1;31mAttributeError\u001b[0m: 'ATM' object has no attribute 'transaction'"
     ]
    }
   ],
   "source": [
    "\n",
    "print(\"*******WELCOME TO BANK OF BHUTAN*******\")\n",
    "print(\"___________________________________________________________\\n\")\n",
    "print(\"----------ACCOUNT CREATION----------\")\n",
    "name = input(\"Enter your name: \")\n",
    "account_number = input(\"Enter your account number: \")\n",
    "print(\"Congratulations! Account created successfully......\\n\")\n",
    " \n",
    "atm = ATM(name, account_number)\n",
    " \n",
    "while True:\n",
    "    trans = input(\"Do you want to do any transaction?(y/n):\")\n",
    "    if trans == \"y\":\n",
    "        atm.transaction()\n",
    "    elif trans == \"n\":\n",
    "        print(\"\"\"\n",
    "\n",
    "    Thanks for choosing us as your bank \n",
    "   Visit us again!                     \n",
    "\n",
    "        \"\"\")\n",
    "        break\n",
    "    else:\n",
    "        print(\"Wrong command!  Enter 'y' for yes and 'n' for NO.\\n\")"
   ]
  },
  {
   "cell_type": "code",
   "execution_count": null,
   "id": "3e1d7cc8",
   "metadata": {},
   "outputs": [],
   "source": []
  },
  {
   "cell_type": "code",
   "execution_count": null,
   "id": "b86d2d60",
   "metadata": {},
   "outputs": [],
   "source": []
  },
  {
   "cell_type": "code",
   "execution_count": null,
   "id": "b083b0d4",
   "metadata": {},
   "outputs": [],
   "source": []
  },
  {
   "cell_type": "code",
   "execution_count": null,
   "id": "33f50e28",
   "metadata": {},
   "outputs": [],
   "source": []
  },
  {
   "cell_type": "code",
   "execution_count": null,
   "id": "e19063a9",
   "metadata": {},
   "outputs": [],
   "source": []
  },
  {
   "cell_type": "code",
   "execution_count": null,
   "id": "7a479423",
   "metadata": {},
   "outputs": [],
   "source": []
  }
 ],
 "metadata": {
  "kernelspec": {
   "display_name": "Python 3 (ipykernel)",
   "language": "python",
   "name": "python3"
  },
  "language_info": {
   "codemirror_mode": {
    "name": "ipython",
    "version": 3
   },
   "file_extension": ".py",
   "mimetype": "text/x-python",
   "name": "python",
   "nbconvert_exporter": "python",
   "pygments_lexer": "ipython3",
   "version": "3.9.7"
  }
 },
 "nbformat": 4,
 "nbformat_minor": 5
}
